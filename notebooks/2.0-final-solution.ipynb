{
 "cells": [
  {
   "cell_type": "markdown",
   "metadata": {},
   "source": [
    "## 1. Load and Prepare the Data"
   ]
  },
  {
   "cell_type": "code",
   "execution_count": 23,
   "metadata": {},
   "outputs": [],
   "source": [
    "from pyspark.sql import SparkSession\n",
    "from pyspark.ml.recommendation import ALS\n",
    "from pyspark.ml.evaluation import RegressionEvaluator\n",
    "from pyspark.sql.types import StructType, StructField, IntegerType\n",
    "from pyspark.ml.tuning import ParamGridBuilder, CrossValidator\n",
    "\n",
    "# Initialize Spark Session\n",
    "spark = SparkSession.builder.appName(\"MovieRecommendation\").getOrCreate()\n",
    "\n",
    "# Load data\n",
    "movies = spark.read.csv('../data/intermediate/filtered_movies.tsv', sep='\\t', header=True, inferSchema=True)\n",
    "users = spark.read.csv('../data/intermediate/filtered_users.tsv', sep='\\t', header=True, inferSchema=True)\n",
    "user_ratings = spark.read.csv('../data/intermediate/filtered_user_ratings.tsv', sep='\\t', header=True, inferSchema=True)\n"
   ]
  },
  {
   "cell_type": "code",
   "execution_count": 24,
   "metadata": {},
   "outputs": [],
   "source": [
    "schema = StructType([\n",
    "    StructField(\"user_id\", IntegerType(), True),\n",
    "    StructField(\"movie_id\", IntegerType(), True),\n",
    "    StructField(\"rating\", IntegerType(), True),\n",
    "    StructField(\"timestamp\", IntegerType(), True)\n",
    "])\n",
    "\n",
    "# Load the training data\n",
    "train = spark.read.csv(\"../data/raw/u1.base\", sep=\"\\t\", schema=schema, header=False)\n",
    "\n",
    "# Load the test data\n",
    "test = spark.read.csv(\"../data/raw/u1.test\", sep=\"\\t\", schema=schema, header=False)\n"
   ]
  },
  {
   "cell_type": "code",
   "execution_count": 25,
   "metadata": {},
   "outputs": [
    {
     "name": "stdout",
     "output_type": "stream",
     "text": [
      "root\n",
      " |-- user_id: integer (nullable = true)\n",
      " |-- movie_id: integer (nullable = true)\n",
      " |-- rating: integer (nullable = true)\n",
      " |-- timestamp: integer (nullable = true)\n",
      "\n",
      "root\n",
      " |-- user_id: integer (nullable = true)\n",
      " |-- age: integer (nullable = true)\n",
      " |-- gender: string (nullable = true)\n",
      " |-- occupation: string (nullable = true)\n",
      " |-- zip_code: string (nullable = true)\n",
      "\n",
      "root\n",
      " |-- movie_id: integer (nullable = true)\n",
      " |-- movie_title: string (nullable = true)\n",
      " |-- release_date: integer (nullable = true)\n",
      " |-- genre_1: integer (nullable = true)\n",
      " |-- genre_2: integer (nullable = true)\n",
      " |-- genre_3: integer (nullable = true)\n",
      " |-- genre_4: integer (nullable = true)\n",
      " |-- genre_5: integer (nullable = true)\n",
      " |-- genre_6: integer (nullable = true)\n",
      " |-- genre_7: integer (nullable = true)\n",
      " |-- genre_8: integer (nullable = true)\n",
      " |-- genre_9: integer (nullable = true)\n",
      " |-- genre_10: integer (nullable = true)\n",
      " |-- genre_11: integer (nullable = true)\n",
      " |-- genre_12: integer (nullable = true)\n",
      " |-- genre_13: integer (nullable = true)\n",
      " |-- genre_14: integer (nullable = true)\n",
      " |-- genre_15: integer (nullable = true)\n",
      " |-- genre_16: integer (nullable = true)\n",
      " |-- genre_17: integer (nullable = true)\n",
      " |-- genre_18: integer (nullable = true)\n",
      " |-- genre_19: integer (nullable = true)\n",
      " |-- average_rating: double (nullable = true)\n",
      " |-- rating_count: integer (nullable = true)\n",
      "\n"
     ]
    }
   ],
   "source": [
    "# check the data types of all columns\n",
    "user_ratings.printSchema()\n",
    "\n",
    "users.printSchema()\n",
    "\n",
    "movies.printSchema()"
   ]
  },
  {
   "cell_type": "markdown",
   "metadata": {},
   "source": [
    "## 2. Model Creation and Evaluation"
   ]
  },
  {
   "cell_type": "code",
   "execution_count": 26,
   "metadata": {},
   "outputs": [
    {
     "name": "stdout",
     "output_type": "stream",
     "text": [
      "Root-mean-square error = 0.8279527668903118\n",
      "Mean Squared Error (MSE) on test data = 0.685505784201323\n"
     ]
    }
   ],
   "source": [
    "# Build the ALS Model with initial parameters\n",
    "als = ALS(userCol=\"user_id\", itemCol=\"movie_id\", ratingCol=\"rating\", coldStartStrategy=\"drop\")\n",
    "\n",
    "# Define a parameter grid to search over\n",
    "paramGrid = ParamGridBuilder() \\\n",
    "    .addGrid(als.rank, [5, 10, 15]) \\\n",
    "    .addGrid(als.maxIter, [5, 10]) \\\n",
    "    .addGrid(als.regParam, [0.01, 0.1]) \\\n",
    "    .build()\n",
    "\n",
    "# Define an evaluator\n",
    "evaluator = RegressionEvaluator(metricName=\"rmse\", labelCol=\"rating\", predictionCol=\"prediction\")\n",
    "\n",
    "# Setup CrossValidator\n",
    "crossval = CrossValidator(estimator=als,\n",
    "                          estimatorParamMaps=paramGrid,\n",
    "                          evaluator=evaluator,\n",
    "                          numFolds=3)  # Adjust numFolds as needed\n",
    "\n",
    "# Fit the model using cross-validation\n",
    "cvModel = crossval.fit(user_ratings)  # Assuming 'user_ratings' is your training dataset\n",
    "\n",
    "# Make predictions on the test data\n",
    "predictions = cvModel.transform(test)  # Assuming 'test' is your test dataset\n",
    "\n",
    "# Evaluate the model using Root-mean-square error\n",
    "rmse = evaluator.evaluate(predictions)\n",
    "print(f\"Root-mean-square error = {rmse}\")\n",
    "\n",
    "# Evaluate the model using Mean-square error\n",
    "mse_evaluator = RegressionEvaluator(metricName=\"mse\", labelCol=\"rating\", predictionCol=\"prediction\")\n",
    "mse = mse_evaluator.evaluate(predictions)\n",
    "print(f\"Mean Squared Error (MSE) on test data = {mse}\")"
   ]
  },
  {
   "cell_type": "markdown",
   "metadata": {},
   "source": [
    "## 3. Save the Model"
   ]
  },
  {
   "cell_type": "code",
   "execution_count": null,
   "metadata": {},
   "outputs": [],
   "source": [
    "# Define the path where you want to save the model\n",
    "model_path = \"../data/models/1.0-model\"\n",
    "\n",
    "# Save the model\n",
    "cvModel.bestModel.save(model_path)"
   ]
  }
 ],
 "metadata": {
  "kernelspec": {
   "display_name": "base",
   "language": "python",
   "name": "python3"
  },
  "language_info": {
   "codemirror_mode": {
    "name": "ipython",
    "version": 3
   },
   "file_extension": ".py",
   "mimetype": "text/x-python",
   "name": "python",
   "nbconvert_exporter": "python",
   "pygments_lexer": "ipython3",
   "version": "3.9.18"
  }
 },
 "nbformat": 4,
 "nbformat_minor": 2
}
